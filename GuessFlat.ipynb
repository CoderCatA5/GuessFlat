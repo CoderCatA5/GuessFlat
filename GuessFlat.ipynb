{
  "nbformat": 4,
  "nbformat_minor": 0,
  "metadata": {
    "colab": {
      "provenance": [],
      "collapsed_sections": [],
      "private_outputs": true,
      "include_colab_link": true
    },
    "kernelspec": {
      "name": "python3",
      "display_name": "Python 3"
    },
    "language_info": {
      "name": "python"
    },
    "accelerator": "TPU"
  },
  "cells": [
    {
      "cell_type": "markdown",
      "metadata": {
        "id": "view-in-github",
        "colab_type": "text"
      },
      "source": [
        "<a href=\"https://colab.research.google.com/github/MadKauSing/GuessFlat/blob/main/GuessFlat.ipynb\" target=\"_parent\"><img src=\"https://colab.research.google.com/assets/colab-badge.svg\" alt=\"Open In Colab\"/></a>"
      ]
    },
    {
      "cell_type": "markdown",
      "source": [
        "# MADKAUSING GUESSFLAT\n",
        "```\n",
        "Ayush Singh          -PES2UG20C0S81\n",
        "Ayushmaan Kaushik    -PES2UG20CS082\n",
        "Bhavini Madhuranath  -PES2UG20CS088\n",
        "```\n",
        "\n",
        "### An indian music genre classifier\n"
      ],
      "metadata": {
        "id": "pEW9vw8ORTNQ"
      }
    },
    {
      "cell_type": "code",
      "source": [],
      "metadata": {
        "id": "SMtdoWUuU05S"
      },
      "execution_count": null,
      "outputs": []
    },
    {
      "cell_type": "code",
      "source": [],
      "metadata": {
        "id": "b9G-DSeCSrfI"
      },
      "execution_count": null,
      "outputs": []
    }
  ]
}