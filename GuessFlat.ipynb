{
  "nbformat": 4,
  "nbformat_minor": 0,
  "metadata": {
    "colab": {
      "provenance": [],
      "collapsed_sections": [],
      "private_outputs": true,
      "include_colab_link": true
    },
    "kernelspec": {
      "name": "python3",
      "display_name": "Python 3"
    },
    "language_info": {
      "name": "python"
    },
    "accelerator": "TPU"
  },
  "cells": [
    {
      "cell_type": "markdown",
      "metadata": {
        "id": "view-in-github",
        "colab_type": "text"
      },
      "source": [
        "<a href=\"https://colab.research.google.com/github/MadKauSing/GuessFlat/blob/main/GuessFlat.ipynb\" target=\"_parent\"><img src=\"https://colab.research.google.com/assets/colab-badge.svg\" alt=\"Open In Colab\"/></a>"
      ]
    },
    {
      "cell_type": "markdown",
      "source": [
        "# MADKAUSING GUESSFLAT\n",
        "```\n",
        "Ayush Singh          -PES2UG20C0S81\n",
        "Ayushmaan Kaushik    -PES2UG20CS082\n",
        "Bhavini Madhuranath  -PES2UG20CS088\n",
        "```\n",
        "\n",
        "### An indian music genre classifier\n"
      ],
      "metadata": {
        "id": "pEW9vw8ORTNQ"
      }
    },
    {
      "cell_type": "code",
      "source": [
        "#linking google drive\n",
        "from google.colab import drive\n",
        "drive.mount('/content/drive')\n"
      ],
      "metadata": {
        "id": "b9G-DSeCSrfI"
      },
      "execution_count": null,
      "outputs": []
    },
    {
      "cell_type": "markdown",
      "source": [
        "---\n",
        "**Importing the dataset and storing file names in a pandas dataframe**\n",
        "\n",
        "Please follow the given format\n",
        "\n",
        "|file_path|genre|\n",
        "|----|----|\n",
        "|path_to_file1.mp3|genre1|\n",
        "|path_to_file2.mp3|genre2|\n",
        "|path_to_file3.mp3|genre3|\n",
        "\n",
        "---\n"
      ],
      "metadata": {
        "id": "SSzTxIZ2WAmm"
      }
    },
    {
      "cell_type": "code",
      "source": [
        "import os\n",
        "import pandas as pd\n",
        "import matplotlib\n",
        "import librosa\n",
        "import soundfile as sf\n",
        "import matplotlib.pyplot as plt\n",
        "import numpy as np\n",
        "import librosa.display"
      ],
      "metadata": {
        "id": "a2mwQH_dWAIF"
      },
      "execution_count": null,
      "outputs": []
    },
    {
      "cell_type": "code",
      "source": [
        "os.getcwd()"
      ],
      "metadata": {
        "id": "-0ZEnEOUVftr"
      },
      "execution_count": null,
      "outputs": []
    },
    {
      "cell_type": "code",
      "source": [
        "moozyc_path='/content/drive/MyDrive/moozyc'\n",
        "genre_list=os.listdir(moozyc_path)\n",
        "#genre_list"
      ],
      "metadata": {
        "id": "eUv4J1t0YHvv"
      },
      "execution_count": null,
      "outputs": []
    },
    {
      "cell_type": "code",
      "source": [
        "data=[]\n",
        "for genre in genre_list:\n",
        "  genre_path='/'+genre\n",
        "  music_files=os.listdir(moozyc_path+genre_path)\n",
        "  music_files=[i  for i in music_files if i!='.spotdl-cache']\n",
        "  \n",
        "  #add each song to pandas df\n",
        "  for song in music_files:\n",
        "    song_path=moozyc_path+genre_path+'/'+song\n",
        "    data.append([song_path,song,genre])\n",
        "\n",
        "#creating pandas dataframe\n",
        "song_df=pd.DataFrame(data,columns=['file_path','song','genre'])\n",
        "song_df"
      ],
      "metadata": {
        "id": "o5Hc9TMHg0VK"
      },
      "execution_count": null,
      "outputs": []
    },
    {
      "cell_type": "markdown",
      "source": [
        "---\n",
        "** Reading mp3 files and generating spectrogram **\n",
        "\n",
        "---"
      ],
      "metadata": {
        "id": "sOSZiDdSW83c"
      }
    },
    {
      "cell_type": "code",
      "source": [
        "%rm -rf /content/spectrograms6sec"
      ],
      "metadata": {
        "id": "wdV1eCj5La8K"
      },
      "execution_count": null,
      "outputs": []
    },
    {
      "cell_type": "code",
      "source": [
        "os.mkdir('/content/spectrograms6sec')\n",
        "for genre in genre_list:\n",
        "  os.mkdir(f'/content/spectrograms6sec/{genre}')"
      ],
      "metadata": {
        "id": "u_wOvrU9KIxE"
      },
      "execution_count": null,
      "outputs": []
    },
    {
      "cell_type": "code",
      "source": [
        "#making spectrograms save in file\n",
        "def save_spectrogram(block,sr,genre,song_name,counter):\n",
        "  matplotlib.use('Agg')\n",
        "  S = librosa.feature.melspectrogram(y=block, sr=sr, n_mels=128,fmax=8000)\n",
        "  plt.figure(figsize=(6, 3))\n",
        "  librosa.display.specshow(librosa.power_to_db(S,ref=np.max),y_axis='mel', fmax=8000,x_axis='time')\n",
        "  # plt.plot()\n",
        "  song_name=song_name.replace('.mp3','')\n",
        "  file_name=f'/content/spectrograms6sec/{genre}/'+song_name+str(counter)+'.png'\n",
        "  plt.savefig(file_name)\n",
        "\n"
      ],
      "metadata": {
        "id": "CpM_0XerKh3V"
      },
      "execution_count": null,
      "outputs": []
    },
    {
      "cell_type": "code",
      "source": [
        "\n",
        "def preprocess(file_name,song_name,genre):\n",
        "  # First load the file\n",
        "  audio, sr = librosa.load(file_name)\n",
        "  filename = file_name.replace(\".mp3\",\".wav\")\n",
        "\n",
        "  # Get number of samples for 6 seconds; replace 2 by any number\n",
        "  buffer = 6 * sr\n",
        "\n",
        "  samples_total = len(audio)\n",
        "  samples_wrote = 0\n",
        "  counter = 1\n",
        "\n",
        "  while samples_wrote < samples_total:\n",
        "      \n",
        "      #check if the buffer is not exceeding total samples \n",
        "      if buffer > (samples_total - samples_wrote):\n",
        "          buffer = samples_total - samples_wrote\n",
        "\n",
        "      block = audio[samples_wrote : (samples_wrote + buffer)]\n",
        "      out_filename = \"split_\" + str(counter) + \"_\" + filename\n",
        "\n",
        "      # Write 2 second segment\n",
        "      save_spectrogram(block,sr,genre,song_name,counter)\n",
        "      # sf.write('1.wav', block, sr, 'PCM_24')\n",
        "      counter += 1\n",
        "      samples_wrote += buffer\n",
        "      \n",
        "  \n",
        "    "
      ],
      "metadata": {
        "id": "nnraOWdTmAGF"
      },
      "execution_count": null,
      "outputs": []
    },
    {
      "cell_type": "code",
      "source": [
        "# preprocess(song_df[\"file_path\"][0],song_df['song'][0],song_df['genre'][0])\n",
        "# song_df[\"file_path\"][0]"
      ],
      "metadata": {
        "id": "1dPOGHq6D8Xo"
      },
      "execution_count": null,
      "outputs": []
    },
    {
      "cell_type": "code",
      "source": [
        "for index,row in song_df.iterrows():\n",
        "  preprocess(row[\"file_path\"],row[\"song\"],row[\"genre\"])\n",
        "  print(f\"{row['song']} done\")"
      ],
      "metadata": {
        "id": "jjFWe2hpT15_"
      },
      "execution_count": null,
      "outputs": []
    },
    {
      "cell_type": "code",
      "source": [
        "%ls"
      ],
      "metadata": {
        "id": "plczl7_2HiYs"
      },
      "execution_count": null,
      "outputs": []
    }
  ]
}